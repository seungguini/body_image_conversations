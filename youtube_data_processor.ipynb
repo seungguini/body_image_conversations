{
 "cells": [
  {
   "cell_type": "markdown",
   "metadata": {},
   "source": []
  },
  {
   "cell_type": "markdown",
   "metadata": {},
   "source": [
    "# YouTube Data Processor\n",
    "This script will process YouTube comments data for exploratory data analysis and natural language processing.\n",
    "The comments data come from the top video results when the \"body image\" is searched on YouTube.\n",
    "The data was scraped with [scraping_youtube_comments.ipynb](https://github.com/seungguini/body_image_conversations/blob/main/scraping_youtube_comments.ipynb),\n",
    "which is built on [Selenium](https://www.selenium.dev/)\n",
    "\n",
    "## References\n",
    "The following processing methods refers to [NLP Part 2| Pre-Processing Text Data Using Python](https://towardsdatascience.com/preprocessing-text-data-using-python-576206753c28) by [Kamil Mysiak](https://medium.com/@kamilmysiak?source=post_page-----576206753c28--------------------------------) for guidance.\n",
    "\n",
    "## Procedure\n",
    "1. Importing Libraries along with our Data\n",
    "2. Expanding Contractions\n",
    "3. Language Detection\n",
    "4. Tokenization\n",
    "5. Converting all Characters to Lowercase\n",
    "6. Removing Punctuations\n",
    "7. Removing Stopwords\n",
    "8. Parts of Speech Tagging\n",
    "9. Lemmatization"
   ]
  },
  {
   "cell_type": "markdown",
   "metadata": {},
   "source": [
    "### 1. Importing Libraries & Data"
   ]
  },
  {
   "cell_type": "code",
   "execution_count": 49,
   "metadata": {},
   "outputs": [
    {
     "ename": "ModuleNotFoundError",
     "evalue": "No module named 'contractions'",
     "output_type": "error",
     "traceback": [
      "\u001b[1;31m---------------------------------------------------------------------------\u001b[0m",
      "\u001b[1;31mModuleNotFoundError\u001b[0m                       Traceback (most recent call last)",
      "\u001b[1;32m<ipython-input-49-bc984c088720>\u001b[0m in \u001b[0;36m<module>\u001b[1;34m\u001b[0m\n\u001b[0;32m      4\u001b[0m \u001b[1;32mimport\u001b[0m \u001b[0mstring\u001b[0m\u001b[1;33m\u001b[0m\u001b[1;33m\u001b[0m\u001b[0m\n\u001b[0;32m      5\u001b[0m \u001b[1;31m# import fasttext\u001b[0m\u001b[1;33m\u001b[0m\u001b[1;33m\u001b[0m\u001b[1;33m\u001b[0m\u001b[0m\n\u001b[1;32m----> 6\u001b[1;33m \u001b[1;32mimport\u001b[0m \u001b[0mcontractions\u001b[0m\u001b[1;33m\u001b[0m\u001b[1;33m\u001b[0m\u001b[0m\n\u001b[0m\u001b[0;32m      7\u001b[0m \u001b[1;32mfrom\u001b[0m \u001b[0mnltk\u001b[0m\u001b[1;33m.\u001b[0m\u001b[0mtokenize\u001b[0m \u001b[1;32mimport\u001b[0m \u001b[0mword_tokenize\u001b[0m\u001b[1;33m\u001b[0m\u001b[1;33m\u001b[0m\u001b[0m\n\u001b[0;32m      8\u001b[0m \u001b[1;32mfrom\u001b[0m \u001b[0mnltk\u001b[0m\u001b[1;33m.\u001b[0m\u001b[0mcorpus\u001b[0m \u001b[1;32mimport\u001b[0m \u001b[0mstopwords\u001b[0m\u001b[1;33m,\u001b[0m \u001b[0mwordnet\u001b[0m\u001b[1;33m\u001b[0m\u001b[1;33m\u001b[0m\u001b[0m\n",
      "\u001b[1;31mModuleNotFoundError\u001b[0m: No module named 'contractions'"
     ]
    }
   ],
   "source": [
    "import pandas as pd\n",
    "import numpy as np\n",
    "import nltk\n",
    "import string\n",
    "# import fasttext\n",
    "import contractions\n",
    "from nltk.tokenize import word_tokenize\n",
    "from nltk.corpus import stopwords, wordnet\n",
    "from nltk.stem import WordNetLemmatizer\n",
    "\n",
    "import matplotlib.pyplot as plt\n",
    "plt.xticks(rotation=70)\n",
    "pd.options.mode.chained_assignment = None\n",
    "pd.set_option('display.max_colwidth',100)\n",
    "%matplotlib inline"
   ]
  },
  {
   "cell_type": "code",
   "execution_count": 31,
   "metadata": {},
   "outputs": [],
   "source": [
    "with open ('./data/youtube_comments_bodyimage.csv',encoding='utf-8') as f:\n",
    "    df = pd.read_csv(f)\n",
    "f.close()"
   ]
  },
  {
   "cell_type": "markdown",
   "metadata": {},
   "source": [
    "We can preview the data with `df.head()`"
   ]
  },
  {
   "cell_type": "code",
   "execution_count": 32,
   "metadata": {},
   "outputs": [
    {
     "data": {
      "text/html": [
       "<div>\n",
       "<style scoped>\n",
       "    .dataframe tbody tr th:only-of-type {\n",
       "        vertical-align: middle;\n",
       "    }\n",
       "\n",
       "    .dataframe tbody tr th {\n",
       "        vertical-align: top;\n",
       "    }\n",
       "\n",
       "    .dataframe thead th {\n",
       "        text-align: right;\n",
       "    }\n",
       "</style>\n",
       "<table border=\"1\" class=\"dataframe\">\n",
       "  <thead>\n",
       "    <tr style=\"text-align: right;\">\n",
       "      <th></th>\n",
       "      <th>url</th>\n",
       "      <th>link_title</th>\n",
       "      <th>channel</th>\n",
       "      <th>no_of_views</th>\n",
       "      <th>time_uploaded</th>\n",
       "      <th>comment</th>\n",
       "      <th>author</th>\n",
       "      <th>comment_posted</th>\n",
       "      <th>no_of_replies</th>\n",
       "      <th>upvotes</th>\n",
       "      <th>downvotes</th>\n",
       "    </tr>\n",
       "  </thead>\n",
       "  <tbody>\n",
       "    <tr>\n",
       "      <th>0</th>\n",
       "      <td>https://www.youtube.com/watch?v=5mP5RveA_tk</td>\n",
       "      <td>Girls Ages 6-18 Talk About Body Image | Allure</td>\n",
       "      <td>Allure</td>\n",
       "      <td>5,014,874 views</td>\n",
       "      <td>Jun 1, 2018</td>\n",
       "      <td>skinny - “eat more”\\nbig - “eat less” \\nblack - “ugly”\\nwhite - “basic”</td>\n",
       "      <td>hauntedxdreamss</td>\n",
       "      <td>NaN</td>\n",
       "      <td>NaN</td>\n",
       "      <td>9.6K</td>\n",
       "      <td>NaN</td>\n",
       "    </tr>\n",
       "    <tr>\n",
       "      <th>1</th>\n",
       "      <td>https://www.youtube.com/watch?v=5mP5RveA_tk</td>\n",
       "      <td>Girls Ages 6-18 Talk About Body Image | Allure</td>\n",
       "      <td>Allure</td>\n",
       "      <td>5,014,874 views</td>\n",
       "      <td>Jun 1, 2018</td>\n",
       "      <td>The fact that the 11 year old doesn’t like looking in the mirror at all proves something wrong</td>\n",
       "      <td>Madeleine burns</td>\n",
       "      <td>NaN</td>\n",
       "      <td>NaN</td>\n",
       "      <td>8.5K</td>\n",
       "      <td>NaN</td>\n",
       "    </tr>\n",
       "    <tr>\n",
       "      <th>2</th>\n",
       "      <td>https://www.youtube.com/watch?v=5mP5RveA_tk</td>\n",
       "      <td>Girls Ages 6-18 Talk About Body Image | Allure</td>\n",
       "      <td>Allure</td>\n",
       "      <td>5,014,874 views</td>\n",
       "      <td>Jun 1, 2018</td>\n",
       "      <td>I am sorry but did anyone else notice how beautiful these girls are???</td>\n",
       "      <td>Marlie Noto</td>\n",
       "      <td>NaN</td>\n",
       "      <td>NaN</td>\n",
       "      <td>7.5K</td>\n",
       "      <td>NaN</td>\n",
       "    </tr>\n",
       "  </tbody>\n",
       "</table>\n",
       "</div>"
      ],
      "text/plain": [
       "                                           url  \\\n",
       "0  https://www.youtube.com/watch?v=5mP5RveA_tk   \n",
       "1  https://www.youtube.com/watch?v=5mP5RveA_tk   \n",
       "2  https://www.youtube.com/watch?v=5mP5RveA_tk   \n",
       "\n",
       "                                       link_title channel      no_of_views  \\\n",
       "0  Girls Ages 6-18 Talk About Body Image | Allure  Allure  5,014,874 views   \n",
       "1  Girls Ages 6-18 Talk About Body Image | Allure  Allure  5,014,874 views   \n",
       "2  Girls Ages 6-18 Talk About Body Image | Allure  Allure  5,014,874 views   \n",
       "\n",
       "  time_uploaded  \\\n",
       "0   Jun 1, 2018   \n",
       "1   Jun 1, 2018   \n",
       "2   Jun 1, 2018   \n",
       "\n",
       "                                                                                          comment  \\\n",
       "0                         skinny - “eat more”\\nbig - “eat less” \\nblack - “ugly”\\nwhite - “basic”   \n",
       "1  The fact that the 11 year old doesn’t like looking in the mirror at all proves something wrong   \n",
       "2                          I am sorry but did anyone else notice how beautiful these girls are???   \n",
       "\n",
       "            author  comment_posted  no_of_replies upvotes  downvotes  \n",
       "0  hauntedxdreamss             NaN            NaN    9.6K        NaN  \n",
       "1  Madeleine burns             NaN            NaN    8.5K        NaN  \n",
       "2      Marlie Noto             NaN            NaN    7.5K        NaN  "
      ]
     },
     "execution_count": 32,
     "metadata": {},
     "output_type": "execute_result"
    }
   ],
   "source": [
    "df.head(3)"
   ]
  },
  {
   "cell_type": "markdown",
   "metadata": {},
   "source": [
    "First, let's drop the unnecessary columns. Seems like `comments_posted`, `no_of_replies`, and `downvotes` errored out,\n",
    "so we'll drop those. Since we're also uninterested in who wrote the comments, we'll drop the author column too."
   ]
  },
  {
   "cell_type": "code",
   "execution_count": 33,
   "metadata": {},
   "outputs": [],
   "source": [
    "df.drop(['author','comment_posted','no_of_replies','downvotes'],axis=1,inplace=True)"
   ]
  },
  {
   "cell_type": "code",
   "execution_count": 36,
   "metadata": {},
   "outputs": [
    {
     "data": {
      "text/html": [
       "<div>\n",
       "<style scoped>\n",
       "    .dataframe tbody tr th:only-of-type {\n",
       "        vertical-align: middle;\n",
       "    }\n",
       "\n",
       "    .dataframe tbody tr th {\n",
       "        vertical-align: top;\n",
       "    }\n",
       "\n",
       "    .dataframe thead th {\n",
       "        text-align: right;\n",
       "    }\n",
       "</style>\n",
       "<table border=\"1\" class=\"dataframe\">\n",
       "  <thead>\n",
       "    <tr style=\"text-align: right;\">\n",
       "      <th></th>\n",
       "      <th>url</th>\n",
       "      <th>link_title</th>\n",
       "      <th>channel</th>\n",
       "      <th>no_of_views</th>\n",
       "      <th>time_uploaded</th>\n",
       "      <th>comment</th>\n",
       "      <th>upvotes</th>\n",
       "    </tr>\n",
       "  </thead>\n",
       "  <tbody>\n",
       "    <tr>\n",
       "      <th>0</th>\n",
       "      <td>https://www.youtube.com/watch?v=5mP5RveA_tk</td>\n",
       "      <td>Girls Ages 6-18 Talk About Body Image | Allure</td>\n",
       "      <td>Allure</td>\n",
       "      <td>5,014,874 views</td>\n",
       "      <td>Jun 1, 2018</td>\n",
       "      <td>skinny - “eat more”\\nbig - “eat less” \\nblack - “ugly”\\nwhite - “basic”</td>\n",
       "      <td>9.6K</td>\n",
       "    </tr>\n",
       "    <tr>\n",
       "      <th>1</th>\n",
       "      <td>https://www.youtube.com/watch?v=5mP5RveA_tk</td>\n",
       "      <td>Girls Ages 6-18 Talk About Body Image | Allure</td>\n",
       "      <td>Allure</td>\n",
       "      <td>5,014,874 views</td>\n",
       "      <td>Jun 1, 2018</td>\n",
       "      <td>The fact that the 11 year old doesn’t like looking in the mirror at all proves something wrong</td>\n",
       "      <td>8.5K</td>\n",
       "    </tr>\n",
       "    <tr>\n",
       "      <th>2</th>\n",
       "      <td>https://www.youtube.com/watch?v=5mP5RveA_tk</td>\n",
       "      <td>Girls Ages 6-18 Talk About Body Image | Allure</td>\n",
       "      <td>Allure</td>\n",
       "      <td>5,014,874 views</td>\n",
       "      <td>Jun 1, 2018</td>\n",
       "      <td>I am sorry but did anyone else notice how beautiful these girls are???</td>\n",
       "      <td>7.5K</td>\n",
       "    </tr>\n",
       "    <tr>\n",
       "      <th>3</th>\n",
       "      <td>https://www.youtube.com/watch?v=5mP5RveA_tk</td>\n",
       "      <td>Girls Ages 6-18 Talk About Body Image | Allure</td>\n",
       "      <td>Allure</td>\n",
       "      <td>5,014,874 views</td>\n",
       "      <td>Jun 1, 2018</td>\n",
       "      <td>\"It only takes a second to call a girl fat and She'll take a lifetime trying to starve herself.....</td>\n",
       "      <td>3.9K</td>\n",
       "    </tr>\n",
       "    <tr>\n",
       "      <th>4</th>\n",
       "      <td>https://www.youtube.com/watch?v=5mP5RveA_tk</td>\n",
       "      <td>Girls Ages 6-18 Talk About Body Image | Allure</td>\n",
       "      <td>Allure</td>\n",
       "      <td>5,014,874 views</td>\n",
       "      <td>Jun 1, 2018</td>\n",
       "      <td>\"I avoid looking in the mirror because if I do, I only think about how I want to be.\"\\n\\n- 11 ye...</td>\n",
       "      <td>3.9K</td>\n",
       "    </tr>\n",
       "  </tbody>\n",
       "</table>\n",
       "</div>"
      ],
      "text/plain": [
       "                                           url  \\\n",
       "0  https://www.youtube.com/watch?v=5mP5RveA_tk   \n",
       "1  https://www.youtube.com/watch?v=5mP5RveA_tk   \n",
       "2  https://www.youtube.com/watch?v=5mP5RveA_tk   \n",
       "3  https://www.youtube.com/watch?v=5mP5RveA_tk   \n",
       "4  https://www.youtube.com/watch?v=5mP5RveA_tk   \n",
       "\n",
       "                                       link_title channel      no_of_views  \\\n",
       "0  Girls Ages 6-18 Talk About Body Image | Allure  Allure  5,014,874 views   \n",
       "1  Girls Ages 6-18 Talk About Body Image | Allure  Allure  5,014,874 views   \n",
       "2  Girls Ages 6-18 Talk About Body Image | Allure  Allure  5,014,874 views   \n",
       "3  Girls Ages 6-18 Talk About Body Image | Allure  Allure  5,014,874 views   \n",
       "4  Girls Ages 6-18 Talk About Body Image | Allure  Allure  5,014,874 views   \n",
       "\n",
       "  time_uploaded  \\\n",
       "0   Jun 1, 2018   \n",
       "1   Jun 1, 2018   \n",
       "2   Jun 1, 2018   \n",
       "3   Jun 1, 2018   \n",
       "4   Jun 1, 2018   \n",
       "\n",
       "                                                                                               comment  \\\n",
       "0                              skinny - “eat more”\\nbig - “eat less” \\nblack - “ugly”\\nwhite - “basic”   \n",
       "1       The fact that the 11 year old doesn’t like looking in the mirror at all proves something wrong   \n",
       "2                               I am sorry but did anyone else notice how beautiful these girls are???   \n",
       "3  \"It only takes a second to call a girl fat and She'll take a lifetime trying to starve herself.....   \n",
       "4  \"I avoid looking in the mirror because if I do, I only think about how I want to be.\"\\n\\n- 11 ye...   \n",
       "\n",
       "  upvotes  \n",
       "0    9.6K  \n",
       "1    8.5K  \n",
       "2    7.5K  \n",
       "3    3.9K  \n",
       "4    3.9K  "
      ]
     },
     "execution_count": 36,
     "metadata": {},
     "output_type": "execute_result"
    }
   ],
   "source": [
    "df.head()"
   ]
  },
  {
   "cell_type": "markdown",
   "metadata": {},
   "source": [
    "Now, we check if any columns have missing values"
   ]
  },
  {
   "cell_type": "code",
   "execution_count": 38,
   "metadata": {},
   "outputs": [
    {
     "name": "stdout",
     "output_type": "stream",
     "text": [
      "url 0\n",
      "link_title 0\n",
      "channel 0\n",
      "no_of_views 0\n",
      "time_uploaded 0\n",
      "comment 0\n",
      "upvotes 81\n"
     ]
    }
   ],
   "source": [
    "for col in df.columns:\n",
    "    print(col, df[col].isnull().sum())"
   ]
  },
  {
   "cell_type": "markdown",
   "metadata": {},
   "source": [
    "Seems all of the columns have values, except for upvotes, when the comment has no likes.\n",
    "We'll replace them with 0's"
   ]
  },
  {
   "cell_type": "code",
   "execution_count": 41,
   "metadata": {},
   "outputs": [],
   "source": [
    "df.fillna(value=0, inplace=True)"
   ]
  },
  {
   "cell_type": "code",
   "execution_count": 43,
   "metadata": {},
   "outputs": [
    {
     "name": "stdout",
     "output_type": "stream",
     "text": [
      "url 0\n",
      "link_title 0\n",
      "channel 0\n",
      "no_of_views 0\n",
      "time_uploaded 0\n",
      "comment 0\n",
      "upvotes 0\n"
     ]
    }
   ],
   "source": [
    "# Check if there arny null values left\n",
    "for col in df.columns:\n",
    "    print(col, df[col].isnull().sum())"
   ]
  },
  {
   "cell_type": "markdown",
   "metadata": {},
   "source": [
    "For the first section of the project, we'll simply conduct sentiment analysis on the comments, and compare the sentiments with the number of upvotes on the comments."
   ]
  },
  {
   "cell_type": "code",
   "execution_count": 47,
   "metadata": {},
   "outputs": [
    {
     "data": {
      "text/html": [
       "<div>\n",
       "<style scoped>\n",
       "    .dataframe tbody tr th:only-of-type {\n",
       "        vertical-align: middle;\n",
       "    }\n",
       "\n",
       "    .dataframe tbody tr th {\n",
       "        vertical-align: top;\n",
       "    }\n",
       "\n",
       "    .dataframe thead th {\n",
       "        text-align: right;\n",
       "    }\n",
       "</style>\n",
       "<table border=\"1\" class=\"dataframe\">\n",
       "  <thead>\n",
       "    <tr style=\"text-align: right;\">\n",
       "      <th></th>\n",
       "      <th>comment</th>\n",
       "      <th>upvotes</th>\n",
       "    </tr>\n",
       "  </thead>\n",
       "  <tbody>\n",
       "    <tr>\n",
       "      <th>0</th>\n",
       "      <td>skinny - “eat more”\\nbig - “eat less” \\nblack - “ugly”\\nwhite - “basic”</td>\n",
       "      <td>9.6K</td>\n",
       "    </tr>\n",
       "    <tr>\n",
       "      <th>1</th>\n",
       "      <td>The fact that the 11 year old doesn’t like looking in the mirror at all proves something wrong</td>\n",
       "      <td>8.5K</td>\n",
       "    </tr>\n",
       "    <tr>\n",
       "      <th>2</th>\n",
       "      <td>I am sorry but did anyone else notice how beautiful these girls are???</td>\n",
       "      <td>7.5K</td>\n",
       "    </tr>\n",
       "    <tr>\n",
       "      <th>3</th>\n",
       "      <td>\"It only takes a second to call a girl fat and She'll take a lifetime trying to starve herself.....</td>\n",
       "      <td>3.9K</td>\n",
       "    </tr>\n",
       "    <tr>\n",
       "      <th>4</th>\n",
       "      <td>\"I avoid looking in the mirror because if I do, I only think about how I want to be.\"\\n\\n- 11 ye...</td>\n",
       "      <td>3.9K</td>\n",
       "    </tr>\n",
       "  </tbody>\n",
       "</table>\n",
       "</div>"
      ],
      "text/plain": [
       "                                                                                               comment  \\\n",
       "0                              skinny - “eat more”\\nbig - “eat less” \\nblack - “ugly”\\nwhite - “basic”   \n",
       "1       The fact that the 11 year old doesn’t like looking in the mirror at all proves something wrong   \n",
       "2                               I am sorry but did anyone else notice how beautiful these girls are???   \n",
       "3  \"It only takes a second to call a girl fat and She'll take a lifetime trying to starve herself.....   \n",
       "4  \"I avoid looking in the mirror because if I do, I only think about how I want to be.\"\\n\\n- 11 ye...   \n",
       "\n",
       "  upvotes  \n",
       "0    9.6K  \n",
       "1    8.5K  \n",
       "2    7.5K  \n",
       "3    3.9K  \n",
       "4    3.9K  "
      ]
     },
     "execution_count": 47,
     "metadata": {},
     "output_type": "execute_result"
    }
   ],
   "source": [
    "# Pull out comments and upvotes = [c]omments [u]pvotes [d]ata [f]rame\n",
    "cudf = df.loc[:,['comment','upvotes']]\n",
    "cudf.head()"
   ]
  },
  {
   "cell_type": "markdown",
   "metadata": {},
   "source": [
    "### Processing Commments - Contractions"
   ]
  },
  {
   "cell_type": "code",
   "execution_count": null,
   "metadata": {},
   "outputs": [],
   "source": []
  }
 ],
 "metadata": {
  "kernelspec": {
   "display_name": "Python 3",
   "language": "python",
   "name": "python3"
  },
  "language_info": {
   "codemirror_mode": {
    "name": "ipython",
    "version": 3
   },
   "file_extension": ".py",
   "mimetype": "text/x-python",
   "name": "python",
   "nbconvert_exporter": "python",
   "pygments_lexer": "ipython3",
   "version": "3.8.5"
  },
  "toc": {
   "base_numbering": 1,
   "nav_menu": {},
   "number_sections": true,
   "sideBar": true,
   "skip_h1_title": false,
   "title_cell": "Table of Contents",
   "title_sidebar": "Contents",
   "toc_cell": false,
   "toc_position": {
    "height": "calc(100% - 180px)",
    "left": "10px",
    "top": "150px",
    "width": "409.6px"
   },
   "toc_section_display": true,
   "toc_window_display": false
  },
  "varInspector": {
   "cols": {
    "lenName": 16,
    "lenType": 16,
    "lenVar": 40
   },
   "kernels_config": {
    "python": {
     "delete_cmd_postfix": "",
     "delete_cmd_prefix": "del ",
     "library": "var_list.py",
     "varRefreshCmd": "print(var_dic_list())"
    },
    "r": {
     "delete_cmd_postfix": ") ",
     "delete_cmd_prefix": "rm(",
     "library": "var_list.r",
     "varRefreshCmd": "cat(var_dic_list()) "
    }
   },
   "types_to_exclude": [
    "module",
    "function",
    "builtin_function_or_method",
    "instance",
    "_Feature"
   ],
   "window_display": false
  }
 },
 "nbformat": 4,
 "nbformat_minor": 4
}
