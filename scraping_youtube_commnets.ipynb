{
  "nbformat": 4,
  "nbformat_minor": 0,
  "metadata": {
    "colab": {
      "name": "scraping_youtube_commnets.ipynb",
      "provenance": [],
      "collapsed_sections": [],
      "authorship_tag": "ABX9TyOnsmS5lFlnzQhQnWWHEzAm"
    },
    "kernelspec": {
      "display_name": "Python 3",
      "name": "python3"
    }
  },
  "cells": [
    {
      "cell_type": "markdown",
      "metadata": {
        "id": "n4T6G_EKhfnb"
      },
      "source": [
        "#YouTube Comment Scraper\r\n",
        "## Overview\r\n",
        "This Python script scrapes comments from videos, with keywords\r\n",
        "- body\r\n",
        "- weight\r\n",
        "- diet\r\n",
        "\r\n",
        "Three languages will be used for the study - Korean, English, and Bahasa Indonesia.\r\n",
        "\r\n",
        "This data collection is part of a study to understand the public's sentiments regarding body image and dieting, across different countries and cultures.\r\n",
        "\r\n",
        "## Acknowledgements\r\n",
        "\r\n",
        "YouTube Scraper boilerplate by [Akash Jain](https://francoisstamant.medium.com/) at [Medium](https://medium.com/analytics-vidhya/extracting-youtube-comments-using-selenium-b29ee4f743ef)\r\n",
        "\r\n",
        "and \r\n",
        "\r\n",
        "[François St-Amant](https://francoisstamant.medium.com/?source=post_page-----61ff197115d4--------------------------------) at [towardsdatascience](https://towardsdatascience.com/how-to-scrape-youtube-comments-with-python-61ff197115d4)"
      ]
    },
    {
      "cell_type": "markdown",
      "metadata": {
        "id": "QSWVYMzglnUm"
      },
      "source": [
        "### Step 1: Import required libraries"
      ]
    },
    {
      "cell_type": "code",
      "metadata": {
        "colab": {
          "base_uri": "https://localhost:8080/"
        },
        "id": "qb1QVzNol_n0",
        "outputId": "828c2348-6898-4eef-dc87-ec425309c83c"
      },
      "source": [
        "!pip install selenium\r\n",
        "!apt-get update # to update ubuntu to correctly run apt install\r\n",
        "!apt install chromium-chromedriver\r\n",
        "!cp /usr/lib/chromium-browser/chromedriver /usr/bin\r\n",
        "import sys\r\n",
        "sys.path.insert(0,'/usr/lib/chromium-browser/chromedriver')\r\n"
      ],
      "execution_count": null,
      "outputs": [
        {
          "output_type": "stream",
          "text": [
            "Requirement already satisfied: selenium in /usr/local/lib/python3.6/dist-packages (3.141.0)\n",
            "Requirement already satisfied: urllib3 in /usr/local/lib/python3.6/dist-packages (from selenium) (1.24.3)\n",
            "Hit:1 http://security.ubuntu.com/ubuntu bionic-security InRelease\n",
            "Ign:2 https://developer.download.nvidia.com/compute/cuda/repos/ubuntu1804/x86_64  InRelease\n",
            "Hit:3 https://cloud.r-project.org/bin/linux/ubuntu bionic-cran40/ InRelease\n",
            "Ign:4 https://developer.download.nvidia.com/compute/machine-learning/repos/ubuntu1804/x86_64  InRelease\n",
            "Hit:5 http://ppa.launchpad.net/c2d4u.team/c2d4u4.0+/ubuntu bionic InRelease\n",
            "Hit:6 http://archive.ubuntu.com/ubuntu bionic InRelease\n",
            "Hit:7 https://developer.download.nvidia.com/compute/cuda/repos/ubuntu1804/x86_64  Release\n",
            "Hit:8 https://developer.download.nvidia.com/compute/machine-learning/repos/ubuntu1804/x86_64  Release\n",
            "Hit:9 http://archive.ubuntu.com/ubuntu bionic-updates InRelease\n",
            "Hit:10 http://ppa.launchpad.net/cran/libgit2/ubuntu bionic InRelease\n",
            "Hit:11 http://archive.ubuntu.com/ubuntu bionic-backports InRelease\n",
            "Hit:12 http://ppa.launchpad.net/graphics-drivers/ppa/ubuntu bionic InRelease\n",
            "Reading package lists... Done\n",
            "Reading package lists... Done\n",
            "Building dependency tree       \n",
            "Reading state information... Done\n",
            "chromium-chromedriver is already the newest version (87.0.4280.66-0ubuntu0.18.04.1).\n",
            "0 upgraded, 0 newly installed, 0 to remove and 46 not upgraded.\n",
            "cp: '/usr/lib/chromium-browser/chromedriver' and '/usr/bin/chromedriver' are the same file\n"
          ],
          "name": "stdout"
        }
      ]
    },
    {
      "cell_type": "code",
      "metadata": {
        "id": "PpU0cXtHmAOR"
      },
      "source": [
        "from selenium import webdriver\r\n",
        "from selenium.webdriver import Chrome\r\n",
        "from selenium.webdriver.common.by import By\r\n",
        "from selenium.webdriver.common.keys import Keys\r\n",
        "from selenium.webdriver.support.ui import WebDriverWait\r\n",
        "from selenium.webdriver.support import expected_conditions as EC\r\n",
        "chrome_options = webdriver.ChromeOptions()\r\n",
        "chrome_options.add_argument('--headless')\r\n",
        "chrome_options.add_argument('--no-sandbox')\r\n",
        "chrome_options.add_argument('--disable-dev-shm-usage')\r\n",
        "import time\r\n",
        "import os\r\n",
        "import csv\r\n",
        "import pandas as pd\r\n",
        "import re\r\n",
        "from math import ceil\r\n",
        "\r\n",
        "# wd = webdriver.Chrome('chromedriver',chrome_options=chrome_options)\r\n",
        "# wd.get(\"https://www.webite-url.com\")"
      ],
      "execution_count": null,
      "outputs": []
    },
    {
      "cell_type": "markdown",
      "metadata": {
        "id": "LaKo9LSinYY-"
      },
      "source": [
        "### Import CSV File onto codelab\r\n",
        "[Resource on Mounting Google Drive](https://medium.com/@simonprdhm/2-ways-to-upload-csv-files-to-google-colab-4d29ffa9db85)"
      ]
    },
    {
      "cell_type": "code",
      "metadata": {
        "colab": {
          "base_uri": "https://localhost:8080/"
        },
        "id": "mBBWeS3u8Db-",
        "outputId": "82672236-8f07-4230-ff31-be816b0ae763"
      },
      "source": [
        "from google.colab import drive\r\n",
        "drive.mount('/content/drive')"
      ],
      "execution_count": null,
      "outputs": [
        {
          "output_type": "stream",
          "text": [
            "Drive already mounted at /content/drive; to attempt to forcibly remount, call drive.mount(\"/content/drive\", force_remount=True).\n"
          ],
          "name": "stdout"
        }
      ]
    },
    {
      "cell_type": "code",
      "metadata": {
        "id": "3ctTT21O_TYy"
      },
      "source": [
        "# Create a new .csv file to write data\r\n",
        "path = \"/content/drive/MyDrive/Colab Notebooks/Projects/Mental_Health/data/youtube_comments_test.csv\"\r\n",
        "csv_file = open(path,'w', encoding=\"UTF-8\", newline=\"\")"
      ],
      "execution_count": null,
      "outputs": []
    },
    {
      "cell_type": "code",
      "metadata": {
        "id": "G2zPsDJC_8Kt"
      },
      "source": [
        "writer = csv.writer(csv_file)"
      ],
      "execution_count": null,
      "outputs": []
    },
    {
      "cell_type": "code",
      "metadata": {
        "colab": {
          "base_uri": "https://localhost:8080/"
        },
        "id": "9Q9Z6sZAs5SO",
        "outputId": "4ab4a92f-5eff-4719-8b7e-00a484f13428"
      },
      "source": [
        "# write header names\r\n",
        "writer.writerow(\r\n",
        "    ['url', 'link_title', 'channel', 'no_of_views', 'time_uploaded', 'comment', 'author', 'comment_posted', \r\n",
        "     'no_of_replies','upvotes','downvotes'])"
      ],
      "execution_count": null,
      "outputs": [
        {
          "output_type": "execute_result",
          "data": {
            "text/plain": [
              "112"
            ]
          },
          "metadata": {
            "tags": []
          },
          "execution_count": 17
        }
      ]
    },
    {
      "cell_type": "code",
      "metadata": {
        "colab": {
          "base_uri": "https://localhost:8080/"
        },
        "id": "IE-f0N8Maf7W",
        "outputId": "964dd51f-773c-40fa-da74-17711d084d31"
      },
      "source": [
        "string=\"The Science of Body Image 게시자: AsapSCIENCE 1년 전 3분 41초 조회수 710,258회\"\r\n",
        "print(string.split(\" 게시자: \"))"
      ],
      "execution_count": null,
      "outputs": [
        {
          "output_type": "stream",
          "text": [
            "['The Science of Body Image', 'AsapSCIENCE 1년 전 3분 41초 조회수 710,258회']\n"
          ],
          "name": "stdout"
        }
      ]
    },
    {
      "cell_type": "code",
      "metadata": {
        "id": "1OQpHvc-VZmc",
        "colab": {
          "base_uri": "https://localhost:8080/"
        },
        "outputId": "5a7d6347-c03a-4e4d-fbb9-2a4cb581e9fc"
      },
      "source": [
        "link = \"https://www.youtube.com/results?search_query=body+image\"\r\n",
        "\r\n",
        "# open chrome \r\n",
        "driver = webdriver.Chrome('chromedriver',chrome_options=chrome_options)\r\n",
        "driver.get(link)\r\n",
        "time.sleep(10)\r\n",
        "\r\n",
        "try:\r\n",
        "  print(\"=\" * 40)  # Shows in terminal when youtube summary page with search keyword is being scraped\r\n",
        "  print(\"Scraping \" + link)    \r\n",
        "  time.sleep(20)    \r\n",
        "  \r\n",
        "  # scrap top 8 video URLS that pop up on search\r\n",
        "  video_list = driver.find_elements_by_xpath('//*[@id=\"video-title\"]')\r\n",
        "  \r\n",
        "  info = []\r\n",
        "  urls = []\r\n",
        "  titles = []\r\n",
        "  channels = []\r\n",
        "  no_of_views = []\r\n",
        "  upload_dates = []\r\n",
        "\r\n",
        "  # store URL and video title for videos\r\n",
        "  for video in video_list:\r\n",
        "    urls.append(video.get_attribute('href'))\r\n",
        "    titles.append(video.get_attribute('title'))\r\n",
        "\r\n",
        "  # create data frame to store as csv\r\n",
        "  df = pd.DataFrame(columns = ['url', 'title', 'channel', 'no_of_views', 'time_uploaded', 'comment', 'author', 'comment_posted', \r\n",
        "     'no_of_replies','upvotes','downvotes'])\r\n",
        "  \r\n",
        "  for url in urls:\r\n",
        "    driver.get(url)\r\n",
        "    v_channel = WebDriverWait(driver, 10).until(EC.presence_of_element_located((By.CSS_SELECTOR,\"div#upload-info yt-formatted-string\"))).text\r\n",
        "    print(\"channel name is \",v_channel)    \r\n",
        "    v_views = WebDriverWait(driver, 10).until(EC.presence_of_element_located((By.CSS_SELECTOR,\"div#count span.view-count\"))).text\r\n",
        "    print(\"no. of views is \",v_views)\r\n",
        "    v_timeUploaded = WebDriverWait(driver, 10).until(EC.presence_of_element_located((By.CSS_SELECTOR,\"div#date yt-formatted-string\"))).text\r\n",
        "    print(\"time uploaded is \",v_timeUploaded)\r\n",
        "    print(\"VIDEO INFO:\",url,v_channel,v_views,v_timeUploaded)\r\n",
        "    print()\r\n",
        "\r\n",
        "####################################################################################\r\n",
        "  tcount = 0\r\n",
        "      \r\n",
        "  while tcount < 10:\r\n",
        "      print(\"start loop for video number \",tcount)\r\n",
        "      href.append(vtitle[tcount].get_attribute('href'))\r\n",
        "      print(\"appneded url\", href[tcount])\r\n",
        "      channel.append(subscription[tcount].get_attribute('title'))\r\n",
        "      print(\"appneded channel\")\r\n",
        "      title.append(vtitle[tcount].text)\r\n",
        "      print(\"appneded title\",vtitle[tcount].text)\r\n",
        "      numview.append(views[tcount].text)\r\n",
        "      print(\"appneded views\")\r\n",
        "      postdate.append(posted[tcount].text)  \r\n",
        "      print(\"appneded date\")\r\n",
        "      tcount = tcount +1\r\n",
        "      print(\"scraped video # \",tcount)\r\n",
        "  \r\n",
        "  # launch top ten extracted links and extract comment details\r\n",
        "  tcount = 0    \r\n",
        "  while tcount < 10:  \r\n",
        "\r\n",
        "\r\n",
        "      youtube_dict ={}\r\n",
        "      # extract comment section of top ten links\r\n",
        "      url = href[tcount]\r\n",
        "      print (url)\r\n",
        "      driver.get(url)\r\n",
        "      time.sleep(5)\r\n",
        "      \r\n",
        "      try:\r\n",
        "          print(\"+\" * 40)  # Shows in terminal when details of a new video is being scraped\r\n",
        "          print(\"Scraping child links \")\r\n",
        "          #scroll down to load comments\r\n",
        "          driver.execute_script('window.scrollTo(0,390);')\r\n",
        "          time.sleep(15)\r\n",
        "          #sort by top comments\r\n",
        "          sort= driver.find_element_by_xpath(\"\"\"//*[@id=\"icon-label\"]\"\"\")\r\n",
        "          sort.click()\r\n",
        "          time.sleep(10)\r\n",
        "          topcomments =driver.find_element_by_xpath(\"\"\"//*[@id=\"menu\"]/a[1]/paper-item/paper-item-body/div[1]\"\"\")\r\n",
        "          topcomments.click()\r\n",
        "          time.sleep(10)\r\n",
        "          # Loads 20 comments , scroll two times to load next set of 40 comments. \r\n",
        "          for i in range(0,2):\r\n",
        "              driver.execute_script(\"window.scrollTo(0,Math.max(document.documentElement.scrollHeight,document.body.scrollHeight,document.documentElement.clientHeight))\")\r\n",
        "              time.sleep(10)\r\n",
        "          \r\n",
        "          #count total number of comments and set index to number of comments if less than 50 otherwise set as 50. \r\n",
        "          totalcomments= len(driver.find_elements_by_xpath(\"\"\"//*[@id=\"content-text\"]\"\"\"))\r\n",
        "        \r\n",
        "          if totalcomments < 50:\r\n",
        "              index= totalcomments\r\n",
        "          else:\r\n",
        "              index= 50 \r\n",
        "              \r\n",
        "          ccount = 0\r\n",
        "          while ccount < index: \r\n",
        "              try:\r\n",
        "                  comment = driver.find_elements_by_xpath('//*[@id=\"content-text\"]')[ccount].text\r\n",
        "              except:\r\n",
        "                  comment = \"\"\r\n",
        "              try:\r\n",
        "                  authors = driver.find_elements_by_xpath('//a[@id=\"author-text\"]/span')[ccount].text\r\n",
        "              except:\r\n",
        "                  authors = \"\"\r\n",
        "              try:\r\n",
        "                  comment_posted = driver.find_elements_by_xpath('//*[@id=\"published-time-text\"]/a')[ccount].text\r\n",
        "              except:\r\n",
        "                  comment_posted = \"\"\r\n",
        "              try:\r\n",
        "                  replies = driver.find_elements_by_xpath('//*[@id=\"more-text\"]')[ccount].text                    \r\n",
        "                  if replies ==\"View reply\":\r\n",
        "                      replies= 1\r\n",
        "                  else:\r\n",
        "                      replies =replies.replace(\"View \",\"\")\r\n",
        "                      replies =replies.replace(\" replies\",\"\")\r\n",
        "              except:\r\n",
        "                  replies = \"\"\r\n",
        "              try:\r\n",
        "                  upvotes = driver.find_elements_by_xpath('//*[@id=\"vote-count-middle\"]')[ccount].text\r\n",
        "              except:\r\n",
        "                  upvotes = \"\"\r\n",
        "                      \r\n",
        "              youtube_dict['url'] = href[tcount]\r\n",
        "              youtube_dict['link_title'] = title[tcount]\r\n",
        "              youtube_dict['channel'] = channel[tcount]\r\n",
        "              youtube_dict['no_of_views'] = numview[tcount]\r\n",
        "              youtube_dict['time_uploaded'] =  postdate[tcount]\r\n",
        "              youtube_dict['comment'] = comment\r\n",
        "              youtube_dict['author'] = authors\r\n",
        "              youtube_dict['comment_posted'] = comment_posted\r\n",
        "              youtube_dict['no_of_replies'] = replies\r\n",
        "              youtube_dict['upvotes'] = upvotes\r\n",
        "              \r\n",
        "              writer.writerow(youtube_dict.values())\r\n",
        "              ccount = ccount +1\r\n",
        "              \r\n",
        "      except Exception as e:\r\n",
        "          print(e)\r\n",
        "          driver.close()\r\n",
        "      tcount = tcount +1 \r\n",
        "  print(\"Scrapping process Completed\")   \r\n",
        "  csv_file.close()    \r\n",
        "except Exception as e:\r\n",
        "    print(e)\r\n",
        "    driver.close()"
      ],
      "execution_count": null,
      "outputs": [
        {
          "output_type": "stream",
          "text": [
            "/usr/local/lib/python3.6/dist-packages/ipykernel_launcher.py:4: DeprecationWarning: use options instead of chrome_options\n",
            "  after removing the cwd from sys.path.\n"
          ],
          "name": "stderr"
        },
        {
          "output_type": "stream",
          "text": [
            "========================================\n",
            "Scraping https://www.youtube.com/results?search_query=body+image\n",
            "channel name is  Glamour\n",
            "no. of views is  2,216,197 views\n",
            "time uploaded is  Nov 11, 2018\n",
            "VIDEO INFO: Lili Reinhart’s Revealing Speech About Body Image | Glamour WOTY 2018 Glamour 2,216,197 views Nov 11, 2018\n",
            "\n",
            "channel name is  AsapSCIENCE\n",
            "no. of views is  710,835 views\n",
            "time uploaded is  Dec 12, 2019\n",
            "VIDEO INFO: Lili Reinhart’s Revealing Speech About Body Image | Glamour WOTY 2018 AsapSCIENCE 710,835 views Dec 12, 2019\n",
            "\n",
            "channel name is  BBC Three\n",
            "no. of views is  735,942 views\n",
            "time uploaded is  Jan 21, 2018\n",
            "VIDEO INFO: Lili Reinhart’s Revealing Speech About Body Image | Glamour WOTY 2018 BBC Three 735,942 views Jan 21, 2018\n",
            "\n",
            "channel name is  TWRPtube\n",
            "no. of views is  757,299 views\n",
            "time uploaded is  Jan 14, 2017\n",
            "VIDEO INFO: Lili Reinhart’s Revealing Speech About Body Image | Glamour WOTY 2018 TWRPtube 757,299 views Jan 14, 2017\n",
            "\n",
            "channel name is  Allure\n",
            "no. of views is  5,012,692 views\n",
            "time uploaded is  May 31, 2018\n",
            "VIDEO INFO: Lili Reinhart’s Revealing Speech About Body Image | Glamour WOTY 2018 Allure 5,012,692 views May 31, 2018\n",
            "\n",
            "channel name is  watchwellcast\n",
            "no. of views is  839,760 views\n",
            "time uploaded is  Apr 19, 2013\n",
            "VIDEO INFO: Lili Reinhart’s Revealing Speech About Body Image | Glamour WOTY 2018 watchwellcast 839,760 views Apr 19, 2013\n",
            "\n",
            "channel name is  Kate Noel\n",
            "no. of views is  42,155 views\n",
            "time uploaded is  Nov 9, 2018\n",
            "VIDEO INFO: Lili Reinhart’s Revealing Speech About Body Image | Glamour WOTY 2018 Kate Noel 42,155 views Nov 9, 2018\n",
            "\n",
            "channel name is  TEDx Talks\n",
            "no. of views is  54,711 views\n",
            "time uploaded is  Jan 19, 2016\n",
            "VIDEO INFO: Lili Reinhart’s Revealing Speech About Body Image | Glamour WOTY 2018 TEDx Talks 54,711 views Jan 19, 2016\n",
            "\n",
            "channel name is  Vogue\n",
            "no. of views is  3,372,889 views\n",
            "time uploaded is  Apr 23, 2019\n",
            "VIDEO INFO: Lili Reinhart’s Revealing Speech About Body Image | Glamour WOTY 2018 Vogue 3,372,889 views Apr 23, 2019\n",
            "\n",
            "channel name is  Cimorelli\n",
            "no. of views is  112,081 views\n",
            "time uploaded is  Premiered Jan 16, 2021\n",
            "VIDEO INFO: Lili Reinhart’s Revealing Speech About Body Image | Glamour WOTY 2018 Cimorelli 112,081 views Premiered Jan 16, 2021\n",
            "\n",
            "channel name is  BBC Newsnight\n",
            "no. of views is  501,888 views\n",
            "time uploaded is  Nov 11, 2013\n",
            "VIDEO INFO: Lili Reinhart’s Revealing Speech About Body Image | Glamour WOTY 2018 BBC Newsnight 501,888 views Nov 11, 2013\n",
            "\n",
            "channel name is  Kitan Kate\n",
            "no. of views is  159,303 views\n",
            "time uploaded is  Aug 22, 2020\n",
            "VIDEO INFO: Lili Reinhart’s Revealing Speech About Body Image | Glamour WOTY 2018 Kitan Kate 159,303 views Aug 22, 2020\n",
            "\n",
            "channel name is  mahalodotcom\n",
            "no. of views is  7,959 views\n",
            "time uploaded is  Mar 6, 2014\n",
            "VIDEO INFO: Lili Reinhart’s Revealing Speech About Body Image | Glamour WOTY 2018 mahalodotcom 7,959 views Mar 6, 2014\n",
            "\n",
            "channel name is  TEDx Talks\n",
            "no. of views is  59,038 views\n",
            "time uploaded is  Jan 7, 2020\n",
            "VIDEO INFO: Lili Reinhart’s Revealing Speech About Body Image | Glamour WOTY 2018 TEDx Talks 59,038 views Jan 7, 2020\n",
            "\n",
            "channel name is  BuzzFeedVideo\n",
            "no. of views is  226,034 views\n",
            "time uploaded is  Nov 5, 2018\n",
            "VIDEO INFO: Lili Reinhart’s Revealing Speech About Body Image | Glamour WOTY 2018 BuzzFeedVideo 226,034 views Nov 5, 2018\n",
            "\n",
            "channel name is  William Lewis\n",
            "no. of views is  66,173 views\n",
            "time uploaded is  Nov 13, 2013\n",
            "VIDEO INFO: Lili Reinhart’s Revealing Speech About Body Image | Glamour WOTY 2018 William Lewis 66,173 views Nov 13, 2013\n",
            "\n",
            "channel name is  TEDx Talks\n",
            "no. of views is  18,640 views\n",
            "time uploaded is  Dec 9, 2019\n",
            "VIDEO INFO: Lili Reinhart’s Revealing Speech About Body Image | Glamour WOTY 2018 TEDx Talks 18,640 views Dec 9, 2019\n",
            "\n",
            "channel name is  TEDx Talks\n",
            "no. of views is  182,369 views\n",
            "time uploaded is  Feb 6, 2017\n",
            "VIDEO INFO: Lili Reinhart’s Revealing Speech About Body Image | Glamour WOTY 2018 TEDx Talks 182,369 views Feb 6, 2017\n",
            "\n",
            "channel name is  Madison Friedman\n",
            "no. of views is  22,997 views\n",
            "time uploaded is  Nov 21, 2017\n",
            "VIDEO INFO: Lili Reinhart’s Revealing Speech About Body Image | Glamour WOTY 2018 Madison Friedman 22,997 views Nov 21, 2017\n",
            "\n",
            "channel name is  Wisdom for the Journey\n",
            "no. of views is  20 views\n",
            "time uploaded is  Jan 27, 2021\n",
            "VIDEO INFO: Lili Reinhart’s Revealing Speech About Body Image | Glamour WOTY 2018 Wisdom for the Journey 20 views Jan 27, 2021\n",
            "\n",
            "channel name is  TODAY\n",
            "no. of views is  757,977 views\n",
            "time uploaded is  May 22, 2019\n",
            "VIDEO INFO: Lili Reinhart’s Revealing Speech About Body Image | Glamour WOTY 2018 TODAY 757,977 views May 22, 2019\n",
            "\n",
            "channel name is  Carrie Dayton\n",
            "no. of views is  36,041 views\n",
            "time uploaded is  Aug 15, 2020\n",
            "VIDEO INFO: Lili Reinhart’s Revealing Speech About Body Image | Glamour WOTY 2018 Carrie Dayton 36,041 views Aug 15, 2020\n",
            "\n",
            "start loop for video number  0\n",
            "name 'vtitle' is not defined\n"
          ],
          "name": "stdout"
        }
      ]
    },
    {
      "cell_type": "code",
      "metadata": {
        "id": "WKC-Tvv8PfQz"
      },
      "source": [
        ""
      ],
      "execution_count": null,
      "outputs": []
    }
  ]
}