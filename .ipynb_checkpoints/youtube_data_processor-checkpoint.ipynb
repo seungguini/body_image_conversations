{
 "cells": [
  {
   "cell_type": "markdown",
   "metadata": {},
   "source": [
    "# YouTube Data Processor\n",
    "This script will process YouTube comments data for exploratory data analysis and natural language processing.\n",
    "The comments data come from the top video results when the \"body image\" is searched on YouTube.\n",
    "The data was scraped with [scraping_youtube_comments.ipynb](https://github.com/seungguini/body_image_conversations/blob/main/scraping_youtube_comments.ipynb),\n",
    "which is built on [Selenium](https://www.selenium.dev/)\n",
    "\n",
    "## References\n",
    "The following processing methods refers to [NLP Part 2| Pre-Processing Text Data Using Python](https://towardsdatascience.com/preprocessing-text-data-using-python-576206753c28) by [Kamil Mysiak](https://medium.com/@kamilmysiak?source=post_page-----576206753c28--------------------------------) for guidance.\n",
    "\n",
    "## Procedure\n",
    "Processing methods include the following: \n",
    "1. Importing Libraries along with our Data\n",
    "2. Expanding Contractions\n",
    "3. Language Detection\n",
    "4. Tokenization\n",
    "5. Converting all Characters to Lowercase\n",
    "6. Removing Punctuations\n",
    "7. Removing Stopwords\n",
    "8. Parts of Speech Tagging\n",
    "9. Lemmatization"
   ]
  },
  {
   "cell_type": "markdown",
   "metadata": {},
   "source": []
  }
 ],
 "metadata": {
  "kernelspec": {
   "display_name": "Python 3",
   "language": "python",
   "name": "python3"
  },
  "language_info": {
   "codemirror_mode": {
    "name": "ipython",
    "version": 3
   },
   "file_extension": ".py",
   "mimetype": "text/x-python",
   "name": "python",
   "nbconvert_exporter": "python",
   "pygments_lexer": "ipython3",
   "version": "3.8.5"
  },
  "toc": {
   "base_numbering": 1,
   "nav_menu": {},
   "number_sections": true,
   "sideBar": true,
   "skip_h1_title": false,
   "title_cell": "Table of Contents",
   "title_sidebar": "Contents",
   "toc_cell": false,
   "toc_position": {},
   "toc_section_display": true,
   "toc_window_display": false
  },
  "varInspector": {
   "cols": {
    "lenName": 16,
    "lenType": 16,
    "lenVar": 40
   },
   "kernels_config": {
    "python": {
     "delete_cmd_postfix": "",
     "delete_cmd_prefix": "del ",
     "library": "var_list.py",
     "varRefreshCmd": "print(var_dic_list())"
    },
    "r": {
     "delete_cmd_postfix": ") ",
     "delete_cmd_prefix": "rm(",
     "library": "var_list.r",
     "varRefreshCmd": "cat(var_dic_list()) "
    }
   },
   "types_to_exclude": [
    "module",
    "function",
    "builtin_function_or_method",
    "instance",
    "_Feature"
   ],
   "window_display": false
  }
 },
 "nbformat": 4,
 "nbformat_minor": 4
}
